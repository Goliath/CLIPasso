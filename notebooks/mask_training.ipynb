{
 "cells": [
  {
   "cell_type": "code",
   "execution_count": 51,
   "id": "fe26d2e1-d519-46d3-ae99-8cc63bb18e27",
   "metadata": {},
   "outputs": [],
   "source": [
    "import os\n",
    "import pydiffvg\n",
    "from PIL import Image\n",
    "import matplotlib.pyplot as plt\n",
    "import torch\n",
    "import numpy as np\n",
    "from scipy.ndimage import gaussian_filter\n",
    "from skimage.color import rgb2gray\n",
    "from skimage.filters import threshold_otsu\n",
    "from skimage.transform import warp\n",
    "from skimage import transform as tf\n",
    "import imageio \n",
    "import matplotlib.font_manager as font_manager\n",
    "import skimage\n",
    "import skimage.io\n",
    "from torchvision import transforms\n",
    "import os, sys\n",
    "import PIL\n",
    "p = os.path.abspath('..')\n",
    "sys.path.insert(1, p)\n",
    "import sketch_utils as utils\n",
    "from U2Net_.model import U2NET\n",
    "from scipy import ndimage"
   ]
  },
  {
   "cell_type": "code",
   "execution_count": 99,
   "id": "590351c5-83aa-462d-980b-3500dfd73e4e",
   "metadata": {},
   "outputs": [],
   "source": [
    "def get_mask_u2net(tensor_im, device, use_gpu=True):\n",
    "    data_transforms = transforms.Compose([\n",
    "        # transforms.ToTensor(),\n",
    "        transforms.Normalize(mean=(0.48145466, 0.4578275, 0.40821073), std=(\n",
    "            0.26862954, 0.26130258, 0.27577711)),\n",
    "    ])\n",
    "\n",
    "    input_im_trans = data_transforms(tensor_im).to(device)\n",
    "\n",
    "    model_dir = os.path.join(\"/home/vinker/dev/backgroundCLIPasso/CLIPasso/U2Net_/saved_models/u2net.pth\")\n",
    "    net = U2NET(3, 1)\n",
    "    if torch.cuda.is_available() and use_gpu:\n",
    "        net.load_state_dict(torch.load(model_dir, map_location=torch.device(\"cuda:2\")))\n",
    "        net.to(device)\n",
    "    else:\n",
    "        net.load_state_dict(torch.load(model_dir, map_location='cpu'))\n",
    "    net.eval()\n",
    "    with torch.no_grad():\n",
    "        d1, d2, d3, d4, d5, d6, d7 = net(input_im_trans.detach())\n",
    "    pred = d1[:, 0, :, :]\n",
    "    pred = (pred - pred.min()) / (pred.max() - pred.min())\n",
    "    predict = pred\n",
    "    predict[predict < 0.5] = 0\n",
    "    predict[predict >= 0.5] = 1\n",
    "    \n",
    "    # print(predict[0].shape, ndimage.generate_binary_structure(5, 5).shape)\n",
    "    predict = 1 - torch.tensor(ndimage.binary_dilation(predict[0].cpu().numpy(), structure=np.ones((11,11))).astype(np.int)).unsqueeze(0)\n",
    "    mask = torch.cat([predict, predict, predict], axis=0).permute(1, 2, 0)\n",
    "    mask = mask.cpu().numpy()\n",
    "    \n",
    "    print(mask.max(), mask.dtype)\n",
    "    # predict_np = predict.clone().cpu().data.numpy()\n",
    "    im = Image.fromarray((mask[:, :, 0]*255).astype(np.uint8)).convert('RGB')\n",
    "    # im.save(f\"{args.output_dir}/mask.png\")\n",
    "\n",
    "    im_np = tensor_im[0].permute(1,2,0).cpu().numpy()\n",
    "    im_np = im_np / im_np.max()\n",
    "    im_np = mask * im_np\n",
    "    im_np[mask == 0] = 1\n",
    "    im_final = (im_np / im_np.max() * 255).astype(np.uint8)\n",
    "    im_final = Image.fromarray(im_final)\n",
    "\n",
    "    return im_final, predict\n",
    "\n",
    "\n",
    "def get_target(target_, device, image_scale=224):\n",
    "    target = Image.open(target_)\n",
    "    print(target.size)\n",
    "    if target.mode == \"RGBA\":\n",
    "        # Create a white rgba background\n",
    "        new_image = Image.new(\"RGBA\", target.size, \"WHITE\")\n",
    "        # Paste the image on the background.\n",
    "        new_image.paste(target, (0, 0), target)\n",
    "        target = new_image\n",
    "    target = target.convert(\"RGB\").resize((224,224))\n",
    "    \n",
    "    \n",
    "    # if args.mask_object:\n",
    "    # target = masked_im\n",
    "    # if args.fix_scale:\n",
    "    #     target = utils.fix_image_scale(target)\n",
    "\n",
    "    transforms_ = []\n",
    "    if target.size[0] != target.size[1]:\n",
    "        transforms_.append(transforms.Resize(\n",
    "            (image_scale, image_scale), interpolation=PIL.Image.BICUBIC))\n",
    "    else:\n",
    "        transforms_.append(transforms.Resize(\n",
    "            image_scale, interpolation=PIL.Image.BICUBIC))\n",
    "        transforms_.append(transforms.CenterCrop(image_scale))\n",
    "    transforms_.append(transforms.ToTensor())\n",
    "    data_transforms = transforms.Compose(transforms_)\n",
    "    target_ = data_transforms(target).unsqueeze(0).to(device)\n",
    "    print(target_.shape)\n",
    "    masked_im, mask = get_mask_u2net(target_, device, use_gpu=True)\n",
    "    return target_, mask"
   ]
  },
  {
   "cell_type": "code",
   "execution_count": 102,
   "id": "2c0dbcf2-5748-4a47-a239-a06e5df2721e",
   "metadata": {},
   "outputs": [
    {
     "name": "stdout",
     "output_type": "stream",
     "text": [
      "(500, 500)\n",
      "torch.Size([1, 3, 224, 224])\n",
      "1 int64\n"
     ]
    },
    {
     "data": {
      "image/png": "[encoded data removed]",
      "text/plain": [
       "<Figure size 432x288 with 1 Axes>"
      ]
     },
     "metadata": {
      "needs_background": "light"
     },
     "output_type": "display_data"
    }
   ],
   "source": [
    "file_name = \"semi-complex\"\n",
    "input_image_path=f\"/home/vinker/dev/background_project/notebooks/complex_level_scenes/{file_name}.jpeg\"\n",
    "device = torch.device(\"cuda:2\" if (\n",
    "        torch.cuda.is_available() and torch.cuda.device_count() > 0) else \"cpu\")\n",
    "inputs, mask = get_target(input_image_path, device)\n",
    "plt.imshow(mask[0], cmap=\"gray\")\n",
    "plt.show()"
   ]
  },
  {
   "cell_type": "code",
   "execution_count": 87,
   "id": "6f14918a-7c69-47dc-8f78-4911d3a49223",
   "metadata": {},
   "outputs": [
    {
     "name": "stdout",
     "output_type": "stream",
     "text": [
      "/home/vinker/dev/backgroundCLIPasso/CLIPasso\n",
      "\u001b[0m\u001b[01;34mCLIP_\u001b[0m/                     config.py               \u001b[01;34mrepo_images\u001b[0m/\n",
      "CLIPasso-local-demo.ipynb  display_results.py      requirements.txt\n",
      "CLIPasso.ipynb             \u001b[01;34mmodels\u001b[0m/                 run_object_sketching.py\n",
      "README.md                  \u001b[01;34mnotebooks\u001b[0m/              sketch_utils.py\n",
      "\u001b[01;34mU2Net_\u001b[0m/                    \u001b[01;34moutput_sketches\u001b[0m/        \u001b[01;34mtarget_images\u001b[0m/\n",
      "\u001b[01;34m__pycache__\u001b[0m/               painterly_rendering.py\n",
      "cog.yaml                   predict.py\n"
     ]
    }
   ],
   "source": [
    "%cd ..\n",
    "%ls"
   ]
  },
  {
   "cell_type": "code",
   "execution_count": 90,
   "id": "b2921531-29e4-4c01-b589-7afa5685af28",
   "metadata": {},
   "outputs": [
    {
     "name": "stdout",
     "output_type": "stream",
     "text": [
      "Figure(640x480)\n",
      "100%|███████████████████████████████████████████| 11/11 [00:02<00:00,  4.34it/s]\n"
     ]
    }
   ],
   "source": [
    "!CUDA_VISIBLE_DEVICES=2 python run_object_sketching.py --target_file \"camel.png\" --num_sketches 1 --num_iter 11"
   ]
  },
  {
   "cell_type": "code",
   "execution_count": null,
   "id": "c9d7b112-d3db-4a2f-8ee1-ecb6a1d45929",
   "metadata": {},
   "outputs": [],
   "source": []
  }
 ],
 "metadata": {
  "kernelspec": {
   "display_name": "Python 3 (ipykernel)",
   "language": "python",
   "name": "python3"
  },
  "language_info": {
   "codemirror_mode": {
    "name": "ipython",
    "version": 3
   },
   "file_extension": ".py",
   "mimetype": "text/x-python",
   "name": "python",
   "nbconvert_exporter": "python",
   "pygments_lexer": "ipython3",
   "version": "3.7.9"
  }
 },
 "nbformat": 4,
 "nbformat_minor": 5
}
